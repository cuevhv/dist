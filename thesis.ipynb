{
 "cells": [
  {
   "cell_type": "markdown",
   "metadata": {},
   "source": [
    "# Getting the information from the RosBag"
   ]
  },
  {
   "cell_type": "code",
   "execution_count": 3,
   "metadata": {
    "collapsed": true
   },
   "outputs": [],
   "source": [
    "# Importing the necessary libraries\n",
    "import rosbag\n",
    "import numpy as np\n",
    "import cv2\n",
    "from std_msgs.msg import Int32, String\n",
    "from PIL import Image\n",
    "import matplotlib.pyplot as plt"
   ]
  },
  {
   "cell_type": "code",
   "execution_count": 4,
   "metadata": {
    "collapsed": true
   },
   "outputs": [],
   "source": [
    "\n",
    "import sys"
   ]
  },
  {
   "cell_type": "code",
   "execution_count": 5,
   "metadata": {
    "collapsed": true
   },
   "outputs": [],
   "source": [
    "from std_msgs.msg import String\n",
    "#from sensor_msgs.msg import Image\n",
    "from cv_bridge import CvBridge, CvBridgeError"
   ]
  },
  {
   "cell_type": "markdown",
   "metadata": {},
   "source": [
    "code based on webpage http://ronny.rest/blog/post_2017_03_30_ros3_and_lidar/"
   ]
  },
  {
   "cell_type": "code",
   "execution_count": 6,
   "metadata": {},
   "outputs": [
    {
     "name": "stdout",
     "output_type": "stream",
     "text": [
      "[190 191 182 ..., 109 112 100] <type 'numpy.ndarray'> 6220800\n",
      "flag [190 188 189 ..., 103 106 109] <type 'numpy.ndarray'> 2073600\n",
      "(2073600,) 1080 <type 'numpy.ndarray'>\n",
      "(1080, 1920)\n",
      "(1080, 1920)\n",
      "8\n"
     ]
    }
   ],
   "source": [
    "## Reading the bag \n",
    "bag = rosbag.Bag('tools_2017-06-02-16-29-49.bag')\n",
    "\n",
    "## Reading the messages\n",
    "messages = bag.read_messages(topics='/kinect_2/hd/image_color_rect')\n",
    "\n",
    "## Number of messages\n",
    "n_images = bag.get_message_count(topic_filters=['/kinect_2/hd/image_color_rect'])\n",
    "\n",
    "## Getting the next topic, message and time\n",
    "topic, msg, t = messages.next()\n",
    "\n",
    "#print msg.data\n",
    "img = np.fromstring(msg.data, dtype=np.uint8)\n",
    "#a = msg.bridge.imgmsg_to_cv2(msg.data, \"bgr8\")\n",
    "print img, type(img), len(img) \n",
    "\n",
    "## Separating the BGR pixels\n",
    "flag = np.array([0], dtype=np.uint8)\n",
    "flag2 = np.array([0], dtype=np.uint8)\n",
    "flag3 = np.array([0], dtype=np.uint8)\n",
    "for i in xrange(2073600*0,2073600*0+1920*1080*3,3):\n",
    "    flag = np.append(flag, img[i]) #b\n",
    "    flag2 = np.append(flag2, img[i+1]) #g\n",
    "    flag3 = np.append(flag3, img[i+2]) #r\n",
    "flag=flag[1:2073601] #b\n",
    "flag2=flag2[1:2073601] #g\n",
    "flag3=flag3[1:2073601] #r\n",
    "print 'flag', flag, type(flag), len(flag)\n",
    "#img=img[2073600+1:2073600+2073600+1]\n",
    "img = flag #b\n",
    "img2=flag2 #g\n",
    "img3=flag3 #r\n",
    "print img.shape, msg.height, type(img)\n",
    "\n",
    "## Reshaping the colour vectors into 1080 x 1920\n",
    "img = img.reshape(1080, msg.width)\n",
    "img2 = img2.reshape(1080, msg.width)\n",
    "img3 = img3.reshape(1080, msg.width)\n",
    "print img.shape\n",
    "#colo = cv2.cvtColor(img, cv2.COLOR_BayerGR2RGB)\n",
    "print img.shape\n",
    "#cv2.imshow(\"image3\", img)\n",
    "print n_images\n",
    "#Image.fromarray(img3).show()\n",
    "\n",
    "## Showing one channel \n",
    "#Image.fromarray(img2).show()"
   ]
  },
  {
   "cell_type": "code",
   "execution_count": 7,
   "metadata": {
    "collapsed": true
   },
   "outputs": [],
   "source": [
    "## Combining the rgb channels in one bgr\n",
    "rgbArray = np.zeros((1080,1920,3), 'uint8')\n",
    "rgbArray[..., 0] = img3 #r\n",
    "rgbArray[..., 1] = img2 #g\n",
    "rgbArray[..., 2] = img #b\n",
    "Image.fromarray(rgbArray).show()\n"
   ]
  },
  {
   "cell_type": "code",
   "execution_count": 8,
   "metadata": {},
   "outputs": [
    {
     "name": "stdout",
     "output_type": "stream",
     "text": [
      "1920 1080\n"
     ]
    }
   ],
   "source": [
    "print 6220800/(1080*3), 6220800/(1920*3)"
   ]
  },
  {
   "cell_type": "code",
   "execution_count": 9,
   "metadata": {},
   "outputs": [
    {
     "data": {
      "text/plain": [
       "2073600"
      ]
     },
     "execution_count": 9,
     "metadata": {},
     "output_type": "execute_result"
    }
   ],
   "source": [
    "1920*1080"
   ]
  },
  {
   "cell_type": "code",
   "execution_count": 10,
   "metadata": {},
   "outputs": [
    {
     "data": {
      "text/plain": [
       "16"
      ]
     },
     "execution_count": 10,
     "metadata": {},
     "output_type": "execute_result"
    }
   ],
   "source": [
    "32001/1920"
   ]
  },
  {
   "cell_type": "code",
   "execution_count": 19,
   "metadata": {},
   "outputs": [],
   "source": [
    "#Test to see which channel is which\n",
    "for i in xrange(0,10):\n",
    "    for j in xrange(0,10):\n",
    "        img3[i][j]=0\n",
    "        img2[i][j]=0\n",
    "        img[i][j]=255\n",
    "rgbArray = np.zeros((1080,1920,3), 'uint8')\n",
    "rgbArray[..., 0] = img3 #b\n",
    "rgbArray[..., 1] = img2 #g\n",
    "rgbArray[..., 2] = img #r\n",
    "Image.fromarray(rgbArray).show()"
   ]
  },
  {
   "cell_type": "code",
   "execution_count": null,
   "metadata": {
    "collapsed": true
   },
   "outputs": [],
   "source": []
  },
  {
   "cell_type": "code",
   "execution_count": null,
   "metadata": {
    "collapsed": true
   },
   "outputs": [],
   "source": [
    "bag.close()"
   ]
  }
 ],
 "metadata": {
  "kernelspec": {
   "display_name": "Python 2",
   "language": "python",
   "name": "python2"
  },
  "language_info": {
   "codemirror_mode": {
    "name": "ipython",
    "version": 2
   },
   "file_extension": ".py",
   "mimetype": "text/x-python",
   "name": "python",
   "nbconvert_exporter": "python",
   "pygments_lexer": "ipython2",
   "version": "2.7.12"
  }
 },
 "nbformat": 4,
 "nbformat_minor": 2
}
